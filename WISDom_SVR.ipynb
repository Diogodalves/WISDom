{
 "cells": [
  {
   "cell_type": "code",
   "execution_count": 1,
   "metadata": {},
   "outputs": [],
   "source": [
    "import pandas as pd\n",
    "import numpy as np\n",
    "import matplotlib.pyplot as plt\n",
    "from sklearn import svm\n",
    "from sklearn.preprocessing import StandardScaler\n",
    "from sklearn.model_selection import GridSearchCV\n",
    "from sklearn.metrics import make_scorer\n",
    "from sklearn.metrics import mean_squared_error\n",
    "from math import sqrt\n",
    "import time\n",
    "import seaborn as sns; sns.set()\n",
    "import numpy\n",
    "import math\n",
    "from sklearn.metrics import precision_score\n",
    "from math import sqrt"
   ]
  },
  {
   "cell_type": "markdown",
   "metadata": {},
   "source": [
    "# Importação e Definição dos Sets"
   ]
  },
  {
   "cell_type": "code",
   "execution_count": 2,
   "metadata": {},
   "outputs": [],
   "source": [
    "col_names = [\"date\", \"hour\", \"values\", \"detection\"]\n",
    "#train_df = pd.read_csv('train_barreiro.csv',sep=';', names= col_names)\n",
    "#train_df = pd.read_csv('train_barreiro_3.csv',sep=';', names= col_names)\n",
    "#train_df = pd.read_csv('train_barreiro_2.csv',sep=';', names= col_names)\n",
    "#train_df = pd.read_csv('train_barreiro_4.csv',sep=';', names= col_names)\n",
    "train_df = pd.read_csv('train_iq_1.csv',sep=';', names= col_names)\n",
    "#train_df = pd.read_csv('iq_treino_rotura3.csv',sep=';', names= col_names)\n",
    "#train_df = pd.read_csv('iq_treino_rotura4.csv',sep=';', names= col_names)\n",
    "#train_df = pd.read_csv('Beja_treino_1.csv',sep=';', names= col_names)\n",
    "#train_df = pd.read_csv('Beja_treino_2.csv',sep=';', names= col_names)\n",
    "#train_df = pd.read_csv('Beja_treino_3.csv',sep=';', names= col_names)\n",
    "#test_df = pd.read_csv('test_barreiro.csv',sep=';', names= col_names)\n",
    "#test_df = pd.read_csv('test_barreiro_3.csv',sep=';', names= col_names)\n",
    "#test_df = pd.read_csv('test_barreiro_2.csv',sep=';', names= col_names)\n",
    "#test_df = pd.read_csv('test_barreiro_4.csv',sep=';', names= col_names)\n",
    "test_df = pd.read_csv('test_iq_1.csv',sep=';', names= col_names)\n",
    "#test_df = pd.read_csv('iq_teste_rotura3_part1.csv',sep=';', names= col_names)\n",
    "#test_df = pd.read_csv('iq_teste_rotura3_part2.csv',sep=';', names= col_names)\n",
    "#test_df = pd.read_csv('iq_teste_rotura4.csv',sep=';', names= col_names)\n",
    "#test_df = pd.read_csv('Beja_teste_1.csv',sep=';', names= col_names)\n",
    "#test_df = pd.read_csv('Beja_teste_2.csv',sep=';', names= col_names)\n",
    "#test_df = pd.read_csv('Beja_teste_3.csv',sep=';', names= col_names)\n",
    "holidays = pd.read_csv('Holidays.csv',sep=';')\n",
    "year = pd.read_csv('barreiro_ano.csv',sep=';', names= col_names)"
   ]
  },
  {
   "cell_type": "code",
   "execution_count": 3,
   "metadata": {},
   "outputs": [],
   "source": [
    "year['month'] = pd.to_datetime(year['date'],dayfirst=True)\n",
    "year['month'] = year['month'].dt.month"
   ]
  },
  {
   "cell_type": "markdown",
   "metadata": {},
   "source": [
    "# Valor Médio de Caudal por Mês e Ano"
   ]
  },
  {
   "cell_type": "code",
   "execution_count": 4,
   "metadata": {
    "scrolled": true
   },
   "outputs": [
    {
     "name": "stdout",
     "output_type": "stream",
     "text": [
      "Jan mean flow: 24.04876118806418\n",
      "Feb mean flow: 26.29654233246912\n",
      "Mar mean flow: 21.557514691837365\n",
      "Apr mean flow: 22.56460650419132\n",
      "May mean flow: 34.512126438476145\n",
      "Jun mean flow: 40.162595249542704\n",
      "Jul mean flow: 48.11482606596102\n",
      "Aug mean flow: 54.65139478731855\n",
      "Sep mean flow: 50.73718691621527\n",
      "Oct mean flow: 39.97787004544019\n",
      "Nov mean flow: 25.29344371759861\n",
      "Dec mean flow: 22.931614362222444\n"
     ]
    }
   ],
   "source": [
    "month_label = ['Jan','Feb','Mar','Apr','May','Jun','Jul','Aug','Sep','Oct','Nov','Dec']\n",
    "for i in np.arange(1,13,1):\n",
    "    print(month_label[i-1],'mean flow:', np.mean(year[year['month']==i]['values'].values))"
   ]
  },
  {
   "cell_type": "code",
   "execution_count": 5,
   "metadata": {
    "scrolled": true
   },
   "outputs": [
    {
     "name": "stdout",
     "output_type": "stream",
     "text": [
      "Year mean flow: 34.29768627916298\n"
     ]
    }
   ],
   "source": [
    "print('Year mean flow:',numpy.mean(year['values'].values))"
   ]
  },
  {
   "cell_type": "markdown",
   "metadata": {},
   "source": [
    "# Informação do Set"
   ]
  },
  {
   "cell_type": "code",
   "execution_count": 6,
   "metadata": {
    "scrolled": true
   },
   "outputs": [
    {
     "data": {
      "text/html": [
       "<div>\n",
       "<style scoped>\n",
       "    .dataframe tbody tr th:only-of-type {\n",
       "        vertical-align: middle;\n",
       "    }\n",
       "\n",
       "    .dataframe tbody tr th {\n",
       "        vertical-align: top;\n",
       "    }\n",
       "\n",
       "    .dataframe thead th {\n",
       "        text-align: right;\n",
       "    }\n",
       "</style>\n",
       "<table border=\"1\" class=\"dataframe\">\n",
       "  <thead>\n",
       "    <tr style=\"text-align: right;\">\n",
       "      <th></th>\n",
       "      <th>date</th>\n",
       "      <th>hour</th>\n",
       "      <th>values</th>\n",
       "      <th>detection</th>\n",
       "    </tr>\n",
       "  </thead>\n",
       "  <tbody>\n",
       "    <tr>\n",
       "      <th>0</th>\n",
       "      <td>31/01/2017</td>\n",
       "      <td>00:07:30</td>\n",
       "      <td>81.976077</td>\n",
       "      <td>0</td>\n",
       "    </tr>\n",
       "    <tr>\n",
       "      <th>1</th>\n",
       "      <td>31/01/2017</td>\n",
       "      <td>00:22:30</td>\n",
       "      <td>78.459897</td>\n",
       "      <td>0</td>\n",
       "    </tr>\n",
       "    <tr>\n",
       "      <th>2</th>\n",
       "      <td>31/01/2017</td>\n",
       "      <td>00:37:30</td>\n",
       "      <td>70.882941</td>\n",
       "      <td>0</td>\n",
       "    </tr>\n",
       "    <tr>\n",
       "      <th>3</th>\n",
       "      <td>31/01/2017</td>\n",
       "      <td>00:52:30</td>\n",
       "      <td>59.618615</td>\n",
       "      <td>0</td>\n",
       "    </tr>\n",
       "    <tr>\n",
       "      <th>4</th>\n",
       "      <td>31/01/2017</td>\n",
       "      <td>01:07:30</td>\n",
       "      <td>68.780676</td>\n",
       "      <td>0</td>\n",
       "    </tr>\n",
       "  </tbody>\n",
       "</table>\n",
       "</div>"
      ],
      "text/plain": [
       "         date      hour     values  detection\n",
       "0  31/01/2017  00:07:30  81.976077          0\n",
       "1  31/01/2017  00:22:30  78.459897          0\n",
       "2  31/01/2017  00:37:30  70.882941          0\n",
       "3  31/01/2017  00:52:30  59.618615          0\n",
       "4  31/01/2017  01:07:30  68.780676          0"
      ]
     },
     "execution_count": 6,
     "metadata": {},
     "output_type": "execute_result"
    }
   ],
   "source": [
    "train_df.head()"
   ]
  },
  {
   "cell_type": "code",
   "execution_count": 7,
   "metadata": {
    "scrolled": true
   },
   "outputs": [
    {
     "name": "stdout",
     "output_type": "stream",
     "text": [
      "<class 'pandas.core.frame.DataFrame'>\n",
      "RangeIndex: 480 entries, 0 to 479\n",
      "Data columns (total 4 columns):\n",
      " #   Column     Non-Null Count  Dtype  \n",
      "---  ------     --------------  -----  \n",
      " 0   date       480 non-null    object \n",
      " 1   hour       480 non-null    object \n",
      " 2   values     480 non-null    float64\n",
      " 3   detection  480 non-null    int64  \n",
      "dtypes: float64(1), int64(1), object(2)\n",
      "memory usage: 15.1+ KB\n"
     ]
    }
   ],
   "source": [
    "train_df.info()"
   ]
  },
  {
   "cell_type": "code",
   "execution_count": 8,
   "metadata": {
    "scrolled": true
   },
   "outputs": [
    {
     "data": {
      "text/plain": [
       "(480, 4)"
      ]
     },
     "execution_count": 8,
     "metadata": {},
     "output_type": "execute_result"
    }
   ],
   "source": [
    "train_df.shape"
   ]
  },
  {
   "cell_type": "code",
   "execution_count": 9,
   "metadata": {
    "scrolled": true
   },
   "outputs": [
    {
     "data": {
      "text/html": [
       "<div>\n",
       "<style scoped>\n",
       "    .dataframe tbody tr th:only-of-type {\n",
       "        vertical-align: middle;\n",
       "    }\n",
       "\n",
       "    .dataframe tbody tr th {\n",
       "        vertical-align: top;\n",
       "    }\n",
       "\n",
       "    .dataframe thead th {\n",
       "        text-align: right;\n",
       "    }\n",
       "</style>\n",
       "<table border=\"1\" class=\"dataframe\">\n",
       "  <thead>\n",
       "    <tr style=\"text-align: right;\">\n",
       "      <th></th>\n",
       "      <th>date</th>\n",
       "      <th>hour</th>\n",
       "      <th>values</th>\n",
       "      <th>detection</th>\n",
       "    </tr>\n",
       "  </thead>\n",
       "  <tbody>\n",
       "    <tr>\n",
       "      <th>0</th>\n",
       "      <td>07/02/2017</td>\n",
       "      <td>00:07:30</td>\n",
       "      <td>52.405125</td>\n",
       "      <td>0</td>\n",
       "    </tr>\n",
       "    <tr>\n",
       "      <th>1</th>\n",
       "      <td>07/02/2017</td>\n",
       "      <td>00:22:30</td>\n",
       "      <td>50.374528</td>\n",
       "      <td>0</td>\n",
       "    </tr>\n",
       "    <tr>\n",
       "      <th>2</th>\n",
       "      <td>07/02/2017</td>\n",
       "      <td>00:37:30</td>\n",
       "      <td>42.898861</td>\n",
       "      <td>0</td>\n",
       "    </tr>\n",
       "    <tr>\n",
       "      <th>3</th>\n",
       "      <td>07/02/2017</td>\n",
       "      <td>00:52:30</td>\n",
       "      <td>43.393778</td>\n",
       "      <td>0</td>\n",
       "    </tr>\n",
       "    <tr>\n",
       "      <th>4</th>\n",
       "      <td>07/02/2017</td>\n",
       "      <td>01:07:30</td>\n",
       "      <td>47.761917</td>\n",
       "      <td>0</td>\n",
       "    </tr>\n",
       "  </tbody>\n",
       "</table>\n",
       "</div>"
      ],
      "text/plain": [
       "         date      hour     values  detection\n",
       "0  07/02/2017  00:07:30  52.405125          0\n",
       "1  07/02/2017  00:22:30  50.374528          0\n",
       "2  07/02/2017  00:37:30  42.898861          0\n",
       "3  07/02/2017  00:52:30  43.393778          0\n",
       "4  07/02/2017  01:07:30  47.761917          0"
      ]
     },
     "execution_count": 9,
     "metadata": {},
     "output_type": "execute_result"
    }
   ],
   "source": [
    "test_df.head()"
   ]
  },
  {
   "cell_type": "code",
   "execution_count": 10,
   "metadata": {},
   "outputs": [
    {
     "data": {
      "text/plain": [
       "(96, 4)"
      ]
     },
     "execution_count": 10,
     "metadata": {},
     "output_type": "execute_result"
    }
   ],
   "source": [
    "test_df.shape"
   ]
  },
  {
   "cell_type": "code",
   "execution_count": 11,
   "metadata": {
    "scrolled": false
   },
   "outputs": [
    {
     "data": {
      "text/html": [
       "<div>\n",
       "<style scoped>\n",
       "    .dataframe tbody tr th:only-of-type {\n",
       "        vertical-align: middle;\n",
       "    }\n",
       "\n",
       "    .dataframe tbody tr th {\n",
       "        vertical-align: top;\n",
       "    }\n",
       "\n",
       "    .dataframe thead th {\n",
       "        text-align: right;\n",
       "    }\n",
       "</style>\n",
       "<table border=\"1\" class=\"dataframe\">\n",
       "  <thead>\n",
       "    <tr style=\"text-align: right;\">\n",
       "      <th></th>\n",
       "      <th>date</th>\n",
       "    </tr>\n",
       "  </thead>\n",
       "  <tbody>\n",
       "    <tr>\n",
       "      <th>0</th>\n",
       "      <td>1970-01-01</td>\n",
       "    </tr>\n",
       "    <tr>\n",
       "      <th>1</th>\n",
       "      <td>1970-03-27</td>\n",
       "    </tr>\n",
       "    <tr>\n",
       "      <th>2</th>\n",
       "      <td>1970-03-29</td>\n",
       "    </tr>\n",
       "    <tr>\n",
       "      <th>3</th>\n",
       "      <td>1970-05-28</td>\n",
       "    </tr>\n",
       "    <tr>\n",
       "      <th>4</th>\n",
       "      <td>1970-10-05</td>\n",
       "    </tr>\n",
       "    <tr>\n",
       "      <th>...</th>\n",
       "      <td>...</td>\n",
       "    </tr>\n",
       "    <tr>\n",
       "      <th>759</th>\n",
       "      <td>2029-05-01</td>\n",
       "    </tr>\n",
       "    <tr>\n",
       "      <th>760</th>\n",
       "      <td>2029-06-10</td>\n",
       "    </tr>\n",
       "    <tr>\n",
       "      <th>761</th>\n",
       "      <td>2029-08-15</td>\n",
       "    </tr>\n",
       "    <tr>\n",
       "      <th>762</th>\n",
       "      <td>2029-12-08</td>\n",
       "    </tr>\n",
       "    <tr>\n",
       "      <th>763</th>\n",
       "      <td>2029-12-25</td>\n",
       "    </tr>\n",
       "  </tbody>\n",
       "</table>\n",
       "<p>764 rows × 1 columns</p>\n",
       "</div>"
      ],
      "text/plain": [
       "           date\n",
       "0    1970-01-01\n",
       "1    1970-03-27\n",
       "2    1970-03-29\n",
       "3    1970-05-28\n",
       "4    1970-10-05\n",
       "..          ...\n",
       "759  2029-05-01\n",
       "760  2029-06-10\n",
       "761  2029-08-15\n",
       "762  2029-12-08\n",
       "763  2029-12-25\n",
       "\n",
       "[764 rows x 1 columns]"
      ]
     },
     "execution_count": 11,
     "metadata": {},
     "output_type": "execute_result"
    }
   ],
   "source": [
    "holidays"
   ]
  },
  {
   "cell_type": "code",
   "execution_count": 12,
   "metadata": {},
   "outputs": [],
   "source": [
    "holidays['date'] = pd.to_datetime(holidays['date'])"
   ]
  },
  {
   "cell_type": "code",
   "execution_count": 13,
   "metadata": {
    "scrolled": false
   },
   "outputs": [
    {
     "data": {
      "text/plain": [
       "0      31/01/2017\n",
       "1      31/01/2017\n",
       "2      31/01/2017\n",
       "3      31/01/2017\n",
       "4      31/01/2017\n",
       "          ...    \n",
       "475    06/02/2017\n",
       "476    06/02/2017\n",
       "477    06/02/2017\n",
       "478    06/02/2017\n",
       "479    06/02/2017\n",
       "Name: date, Length: 480, dtype: object"
      ]
     },
     "execution_count": 13,
     "metadata": {},
     "output_type": "execute_result"
    }
   ],
   "source": [
    "train_df['date']"
   ]
  },
  {
   "cell_type": "code",
   "execution_count": 14,
   "metadata": {},
   "outputs": [
    {
     "data": {
      "text/plain": [
       "0     07/02/2017\n",
       "1     07/02/2017\n",
       "2     07/02/2017\n",
       "3     07/02/2017\n",
       "4     07/02/2017\n",
       "         ...    \n",
       "91    07/02/2017\n",
       "92    07/02/2017\n",
       "93    07/02/2017\n",
       "94    07/02/2017\n",
       "95    07/02/2017\n",
       "Name: date, Length: 96, dtype: object"
      ]
     },
     "execution_count": 14,
     "metadata": {},
     "output_type": "execute_result"
    }
   ],
   "source": [
    "test_df['date']"
   ]
  },
  {
   "cell_type": "markdown",
   "metadata": {},
   "source": [
    "# Processamento de Dados"
   ]
  },
  {
   "cell_type": "code",
   "execution_count": 15,
   "metadata": {},
   "outputs": [],
   "source": [
    "train_df['int_date'] = pd.to_datetime(train_df['date'],dayfirst=True).dt.strftime(\"%Y%m%d\").astype(int)\n",
    "test_df['int_date'] = pd.to_datetime(test_df['date'],dayfirst=True).dt.strftime(\"%Y%m%d\").astype(int)\n",
    "holidays['int_date'] = pd.to_datetime(holidays['date']).dt.strftime(\"%Y%m%d\").astype(int)"
   ]
  },
  {
   "cell_type": "code",
   "execution_count": 16,
   "metadata": {
    "scrolled": true
   },
   "outputs": [
    {
     "data": {
      "text/html": [
       "<div>\n",
       "<style scoped>\n",
       "    .dataframe tbody tr th:only-of-type {\n",
       "        vertical-align: middle;\n",
       "    }\n",
       "\n",
       "    .dataframe tbody tr th {\n",
       "        vertical-align: top;\n",
       "    }\n",
       "\n",
       "    .dataframe thead th {\n",
       "        text-align: right;\n",
       "    }\n",
       "</style>\n",
       "<table border=\"1\" class=\"dataframe\">\n",
       "  <thead>\n",
       "    <tr style=\"text-align: right;\">\n",
       "      <th></th>\n",
       "      <th>date</th>\n",
       "      <th>hour</th>\n",
       "      <th>values</th>\n",
       "      <th>detection</th>\n",
       "      <th>int_date</th>\n",
       "    </tr>\n",
       "  </thead>\n",
       "  <tbody>\n",
       "  </tbody>\n",
       "</table>\n",
       "</div>"
      ],
      "text/plain": [
       "Empty DataFrame\n",
       "Columns: [date, hour, values, detection, int_date]\n",
       "Index: []"
      ]
     },
     "execution_count": 16,
     "metadata": {},
     "output_type": "execute_result"
    }
   ],
   "source": [
    "train_df[train_df['int_date']==20180815]"
   ]
  },
  {
   "cell_type": "code",
   "execution_count": 17,
   "metadata": {},
   "outputs": [],
   "source": [
    "def check_holiday(df,holi_df):\n",
    "    \n",
    "    index_to_drop = []\n",
    "    count = 0\n",
    "    for i in df['int_date'].values:\n",
    "        if i in holi_df['int_date'].values:\n",
    "            index_to_drop.append(count)\n",
    "        count+=1\n",
    "        \n",
    "    dropped_df = df.drop(index_to_drop)\n",
    "    \n",
    "    return dropped_df"
   ]
  },
  {
   "cell_type": "code",
   "execution_count": 18,
   "metadata": {},
   "outputs": [],
   "source": [
    "train_data = check_holiday(train_df,holidays)"
   ]
  },
  {
   "cell_type": "code",
   "execution_count": 19,
   "metadata": {
    "scrolled": true
   },
   "outputs": [
    {
     "data": {
      "text/html": [
       "<div>\n",
       "<style scoped>\n",
       "    .dataframe tbody tr th:only-of-type {\n",
       "        vertical-align: middle;\n",
       "    }\n",
       "\n",
       "    .dataframe tbody tr th {\n",
       "        vertical-align: top;\n",
       "    }\n",
       "\n",
       "    .dataframe thead th {\n",
       "        text-align: right;\n",
       "    }\n",
       "</style>\n",
       "<table border=\"1\" class=\"dataframe\">\n",
       "  <thead>\n",
       "    <tr style=\"text-align: right;\">\n",
       "      <th></th>\n",
       "      <th>date</th>\n",
       "      <th>hour</th>\n",
       "      <th>values</th>\n",
       "      <th>detection</th>\n",
       "      <th>int_date</th>\n",
       "    </tr>\n",
       "  </thead>\n",
       "  <tbody>\n",
       "    <tr>\n",
       "      <th>0</th>\n",
       "      <td>31/01/2017</td>\n",
       "      <td>00:07:30</td>\n",
       "      <td>81.976077</td>\n",
       "      <td>0</td>\n",
       "      <td>20170131</td>\n",
       "    </tr>\n",
       "    <tr>\n",
       "      <th>1</th>\n",
       "      <td>31/01/2017</td>\n",
       "      <td>00:22:30</td>\n",
       "      <td>78.459897</td>\n",
       "      <td>0</td>\n",
       "      <td>20170131</td>\n",
       "    </tr>\n",
       "    <tr>\n",
       "      <th>2</th>\n",
       "      <td>31/01/2017</td>\n",
       "      <td>00:37:30</td>\n",
       "      <td>70.882941</td>\n",
       "      <td>0</td>\n",
       "      <td>20170131</td>\n",
       "    </tr>\n",
       "    <tr>\n",
       "      <th>3</th>\n",
       "      <td>31/01/2017</td>\n",
       "      <td>00:52:30</td>\n",
       "      <td>59.618615</td>\n",
       "      <td>0</td>\n",
       "      <td>20170131</td>\n",
       "    </tr>\n",
       "    <tr>\n",
       "      <th>4</th>\n",
       "      <td>31/01/2017</td>\n",
       "      <td>01:07:30</td>\n",
       "      <td>68.780676</td>\n",
       "      <td>0</td>\n",
       "      <td>20170131</td>\n",
       "    </tr>\n",
       "    <tr>\n",
       "      <th>...</th>\n",
       "      <td>...</td>\n",
       "      <td>...</td>\n",
       "      <td>...</td>\n",
       "      <td>...</td>\n",
       "      <td>...</td>\n",
       "    </tr>\n",
       "    <tr>\n",
       "      <th>475</th>\n",
       "      <td>06/02/2017</td>\n",
       "      <td>22:52:30</td>\n",
       "      <td>44.925417</td>\n",
       "      <td>0</td>\n",
       "      <td>20170206</td>\n",
       "    </tr>\n",
       "    <tr>\n",
       "      <th>476</th>\n",
       "      <td>06/02/2017</td>\n",
       "      <td>23:07:30</td>\n",
       "      <td>47.979819</td>\n",
       "      <td>0</td>\n",
       "      <td>20170206</td>\n",
       "    </tr>\n",
       "    <tr>\n",
       "      <th>477</th>\n",
       "      <td>06/02/2017</td>\n",
       "      <td>23:22:30</td>\n",
       "      <td>50.164222</td>\n",
       "      <td>0</td>\n",
       "      <td>20170206</td>\n",
       "    </tr>\n",
       "    <tr>\n",
       "      <th>478</th>\n",
       "      <td>06/02/2017</td>\n",
       "      <td>23:37:30</td>\n",
       "      <td>47.979444</td>\n",
       "      <td>0</td>\n",
       "      <td>20170206</td>\n",
       "    </tr>\n",
       "    <tr>\n",
       "      <th>479</th>\n",
       "      <td>06/02/2017</td>\n",
       "      <td>23:52:30</td>\n",
       "      <td>47.898972</td>\n",
       "      <td>0</td>\n",
       "      <td>20170206</td>\n",
       "    </tr>\n",
       "  </tbody>\n",
       "</table>\n",
       "<p>480 rows × 5 columns</p>\n",
       "</div>"
      ],
      "text/plain": [
       "           date      hour     values  detection  int_date\n",
       "0    31/01/2017  00:07:30  81.976077          0  20170131\n",
       "1    31/01/2017  00:22:30  78.459897          0  20170131\n",
       "2    31/01/2017  00:37:30  70.882941          0  20170131\n",
       "3    31/01/2017  00:52:30  59.618615          0  20170131\n",
       "4    31/01/2017  01:07:30  68.780676          0  20170131\n",
       "..          ...       ...        ...        ...       ...\n",
       "475  06/02/2017  22:52:30  44.925417          0  20170206\n",
       "476  06/02/2017  23:07:30  47.979819          0  20170206\n",
       "477  06/02/2017  23:22:30  50.164222          0  20170206\n",
       "478  06/02/2017  23:37:30  47.979444          0  20170206\n",
       "479  06/02/2017  23:52:30  47.898972          0  20170206\n",
       "\n",
       "[480 rows x 5 columns]"
      ]
     },
     "execution_count": 19,
     "metadata": {},
     "output_type": "execute_result"
    }
   ],
   "source": [
    "train_data"
   ]
  },
  {
   "cell_type": "code",
   "execution_count": 20,
   "metadata": {},
   "outputs": [],
   "source": [
    "train_holi = train_df.merge(holidays, how='inner', on=['int_date'])"
   ]
  },
  {
   "cell_type": "code",
   "execution_count": 21,
   "metadata": {},
   "outputs": [
    {
     "data": {
      "text/html": [
       "<div>\n",
       "<style scoped>\n",
       "    .dataframe tbody tr th:only-of-type {\n",
       "        vertical-align: middle;\n",
       "    }\n",
       "\n",
       "    .dataframe tbody tr th {\n",
       "        vertical-align: top;\n",
       "    }\n",
       "\n",
       "    .dataframe thead th {\n",
       "        text-align: right;\n",
       "    }\n",
       "</style>\n",
       "<table border=\"1\" class=\"dataframe\">\n",
       "  <thead>\n",
       "    <tr style=\"text-align: right;\">\n",
       "      <th></th>\n",
       "      <th>date_x</th>\n",
       "      <th>hour</th>\n",
       "      <th>values</th>\n",
       "      <th>detection</th>\n",
       "      <th>int_date</th>\n",
       "      <th>date_y</th>\n",
       "    </tr>\n",
       "  </thead>\n",
       "  <tbody>\n",
       "  </tbody>\n",
       "</table>\n",
       "</div>"
      ],
      "text/plain": [
       "Empty DataFrame\n",
       "Columns: [date_x, hour, values, detection, int_date, date_y]\n",
       "Index: []"
      ]
     },
     "execution_count": 21,
     "metadata": {},
     "output_type": "execute_result"
    }
   ],
   "source": [
    "train_holi"
   ]
  },
  {
   "cell_type": "code",
   "execution_count": 22,
   "metadata": {},
   "outputs": [],
   "source": [
    "test_data = check_holiday(test_df,holidays)"
   ]
  },
  {
   "cell_type": "code",
   "execution_count": 23,
   "metadata": {
    "scrolled": false
   },
   "outputs": [
    {
     "data": {
      "text/html": [
       "<div>\n",
       "<style scoped>\n",
       "    .dataframe tbody tr th:only-of-type {\n",
       "        vertical-align: middle;\n",
       "    }\n",
       "\n",
       "    .dataframe tbody tr th {\n",
       "        vertical-align: top;\n",
       "    }\n",
       "\n",
       "    .dataframe thead th {\n",
       "        text-align: right;\n",
       "    }\n",
       "</style>\n",
       "<table border=\"1\" class=\"dataframe\">\n",
       "  <thead>\n",
       "    <tr style=\"text-align: right;\">\n",
       "      <th></th>\n",
       "      <th>date</th>\n",
       "      <th>hour</th>\n",
       "      <th>values</th>\n",
       "      <th>detection</th>\n",
       "      <th>int_date</th>\n",
       "    </tr>\n",
       "  </thead>\n",
       "  <tbody>\n",
       "    <tr>\n",
       "      <th>0</th>\n",
       "      <td>07/02/2017</td>\n",
       "      <td>00:07:30</td>\n",
       "      <td>52.405125</td>\n",
       "      <td>0</td>\n",
       "      <td>20170207</td>\n",
       "    </tr>\n",
       "    <tr>\n",
       "      <th>1</th>\n",
       "      <td>07/02/2017</td>\n",
       "      <td>00:22:30</td>\n",
       "      <td>50.374528</td>\n",
       "      <td>0</td>\n",
       "      <td>20170207</td>\n",
       "    </tr>\n",
       "    <tr>\n",
       "      <th>2</th>\n",
       "      <td>07/02/2017</td>\n",
       "      <td>00:37:30</td>\n",
       "      <td>42.898861</td>\n",
       "      <td>0</td>\n",
       "      <td>20170207</td>\n",
       "    </tr>\n",
       "    <tr>\n",
       "      <th>3</th>\n",
       "      <td>07/02/2017</td>\n",
       "      <td>00:52:30</td>\n",
       "      <td>43.393778</td>\n",
       "      <td>0</td>\n",
       "      <td>20170207</td>\n",
       "    </tr>\n",
       "    <tr>\n",
       "      <th>4</th>\n",
       "      <td>07/02/2017</td>\n",
       "      <td>01:07:30</td>\n",
       "      <td>47.761917</td>\n",
       "      <td>0</td>\n",
       "      <td>20170207</td>\n",
       "    </tr>\n",
       "    <tr>\n",
       "      <th>...</th>\n",
       "      <td>...</td>\n",
       "      <td>...</td>\n",
       "      <td>...</td>\n",
       "      <td>...</td>\n",
       "      <td>...</td>\n",
       "    </tr>\n",
       "    <tr>\n",
       "      <th>91</th>\n",
       "      <td>07/02/2017</td>\n",
       "      <td>22:52:30</td>\n",
       "      <td>39.885125</td>\n",
       "      <td>0</td>\n",
       "      <td>20170207</td>\n",
       "    </tr>\n",
       "    <tr>\n",
       "      <th>92</th>\n",
       "      <td>07/02/2017</td>\n",
       "      <td>23:07:30</td>\n",
       "      <td>52.764181</td>\n",
       "      <td>0</td>\n",
       "      <td>20170207</td>\n",
       "    </tr>\n",
       "    <tr>\n",
       "      <th>93</th>\n",
       "      <td>07/02/2017</td>\n",
       "      <td>23:22:30</td>\n",
       "      <td>66.020722</td>\n",
       "      <td>0</td>\n",
       "      <td>20170207</td>\n",
       "    </tr>\n",
       "    <tr>\n",
       "      <th>94</th>\n",
       "      <td>07/02/2017</td>\n",
       "      <td>23:37:30</td>\n",
       "      <td>68.884931</td>\n",
       "      <td>0</td>\n",
       "      <td>20170207</td>\n",
       "    </tr>\n",
       "    <tr>\n",
       "      <th>95</th>\n",
       "      <td>07/02/2017</td>\n",
       "      <td>23:52:30</td>\n",
       "      <td>59.254514</td>\n",
       "      <td>0</td>\n",
       "      <td>20170207</td>\n",
       "    </tr>\n",
       "  </tbody>\n",
       "</table>\n",
       "<p>96 rows × 5 columns</p>\n",
       "</div>"
      ],
      "text/plain": [
       "          date      hour     values  detection  int_date\n",
       "0   07/02/2017  00:07:30  52.405125          0  20170207\n",
       "1   07/02/2017  00:22:30  50.374528          0  20170207\n",
       "2   07/02/2017  00:37:30  42.898861          0  20170207\n",
       "3   07/02/2017  00:52:30  43.393778          0  20170207\n",
       "4   07/02/2017  01:07:30  47.761917          0  20170207\n",
       "..         ...       ...        ...        ...       ...\n",
       "91  07/02/2017  22:52:30  39.885125          0  20170207\n",
       "92  07/02/2017  23:07:30  52.764181          0  20170207\n",
       "93  07/02/2017  23:22:30  66.020722          0  20170207\n",
       "94  07/02/2017  23:37:30  68.884931          0  20170207\n",
       "95  07/02/2017  23:52:30  59.254514          0  20170207\n",
       "\n",
       "[96 rows x 5 columns]"
      ]
     },
     "execution_count": 23,
     "metadata": {},
     "output_type": "execute_result"
    }
   ],
   "source": [
    "test_data"
   ]
  },
  {
   "cell_type": "code",
   "execution_count": 24,
   "metadata": {},
   "outputs": [
    {
     "data": {
      "text/html": [
       "<div>\n",
       "<style scoped>\n",
       "    .dataframe tbody tr th:only-of-type {\n",
       "        vertical-align: middle;\n",
       "    }\n",
       "\n",
       "    .dataframe tbody tr th {\n",
       "        vertical-align: top;\n",
       "    }\n",
       "\n",
       "    .dataframe thead th {\n",
       "        text-align: right;\n",
       "    }\n",
       "</style>\n",
       "<table border=\"1\" class=\"dataframe\">\n",
       "  <thead>\n",
       "    <tr style=\"text-align: right;\">\n",
       "      <th></th>\n",
       "      <th>date</th>\n",
       "      <th>hour</th>\n",
       "      <th>values</th>\n",
       "      <th>detection</th>\n",
       "      <th>int_date</th>\n",
       "    </tr>\n",
       "  </thead>\n",
       "  <tbody>\n",
       "    <tr>\n",
       "      <th>40</th>\n",
       "      <td>07/02/2017</td>\n",
       "      <td>10:07:30</td>\n",
       "      <td>96.501389</td>\n",
       "      <td>1</td>\n",
       "      <td>20170207</td>\n",
       "    </tr>\n",
       "    <tr>\n",
       "      <th>41</th>\n",
       "      <td>07/02/2017</td>\n",
       "      <td>10:22:30</td>\n",
       "      <td>96.000000</td>\n",
       "      <td>1</td>\n",
       "      <td>20170207</td>\n",
       "    </tr>\n",
       "    <tr>\n",
       "      <th>42</th>\n",
       "      <td>07/02/2017</td>\n",
       "      <td>10:37:30</td>\n",
       "      <td>95.000000</td>\n",
       "      <td>1</td>\n",
       "      <td>20170207</td>\n",
       "    </tr>\n",
       "    <tr>\n",
       "      <th>43</th>\n",
       "      <td>07/02/2017</td>\n",
       "      <td>10:52:30</td>\n",
       "      <td>95.473597</td>\n",
       "      <td>1</td>\n",
       "      <td>20170207</td>\n",
       "    </tr>\n",
       "    <tr>\n",
       "      <th>44</th>\n",
       "      <td>07/02/2017</td>\n",
       "      <td>11:07:30</td>\n",
       "      <td>142.776972</td>\n",
       "      <td>1</td>\n",
       "      <td>20170207</td>\n",
       "    </tr>\n",
       "    <tr>\n",
       "      <th>45</th>\n",
       "      <td>07/02/2017</td>\n",
       "      <td>11:22:30</td>\n",
       "      <td>179.830792</td>\n",
       "      <td>1</td>\n",
       "      <td>20170207</td>\n",
       "    </tr>\n",
       "    <tr>\n",
       "      <th>46</th>\n",
       "      <td>07/02/2017</td>\n",
       "      <td>11:37:30</td>\n",
       "      <td>195.296736</td>\n",
       "      <td>1</td>\n",
       "      <td>20170207</td>\n",
       "    </tr>\n",
       "    <tr>\n",
       "      <th>47</th>\n",
       "      <td>07/02/2017</td>\n",
       "      <td>11:52:30</td>\n",
       "      <td>196.413375</td>\n",
       "      <td>1</td>\n",
       "      <td>20170207</td>\n",
       "    </tr>\n",
       "    <tr>\n",
       "      <th>48</th>\n",
       "      <td>07/02/2017</td>\n",
       "      <td>12:07:30</td>\n",
       "      <td>175.939528</td>\n",
       "      <td>1</td>\n",
       "      <td>20170207</td>\n",
       "    </tr>\n",
       "    <tr>\n",
       "      <th>49</th>\n",
       "      <td>07/02/2017</td>\n",
       "      <td>12:22:30</td>\n",
       "      <td>125.651958</td>\n",
       "      <td>1</td>\n",
       "      <td>20170207</td>\n",
       "    </tr>\n",
       "  </tbody>\n",
       "</table>\n",
       "</div>"
      ],
      "text/plain": [
       "          date      hour      values  detection  int_date\n",
       "40  07/02/2017  10:07:30   96.501389          1  20170207\n",
       "41  07/02/2017  10:22:30   96.000000          1  20170207\n",
       "42  07/02/2017  10:37:30   95.000000          1  20170207\n",
       "43  07/02/2017  10:52:30   95.473597          1  20170207\n",
       "44  07/02/2017  11:07:30  142.776972          1  20170207\n",
       "45  07/02/2017  11:22:30  179.830792          1  20170207\n",
       "46  07/02/2017  11:37:30  195.296736          1  20170207\n",
       "47  07/02/2017  11:52:30  196.413375          1  20170207\n",
       "48  07/02/2017  12:07:30  175.939528          1  20170207\n",
       "49  07/02/2017  12:22:30  125.651958          1  20170207"
      ]
     },
     "execution_count": 24,
     "metadata": {},
     "output_type": "execute_result"
    }
   ],
   "source": [
    "test_data[test_data['detection']==1]"
   ]
  },
  {
   "cell_type": "code",
   "execution_count": 25,
   "metadata": {
    "scrolled": true
   },
   "outputs": [
    {
     "data": {
      "text/html": [
       "<div>\n",
       "<style scoped>\n",
       "    .dataframe tbody tr th:only-of-type {\n",
       "        vertical-align: middle;\n",
       "    }\n",
       "\n",
       "    .dataframe tbody tr th {\n",
       "        vertical-align: top;\n",
       "    }\n",
       "\n",
       "    .dataframe thead th {\n",
       "        text-align: right;\n",
       "    }\n",
       "</style>\n",
       "<table border=\"1\" class=\"dataframe\">\n",
       "  <thead>\n",
       "    <tr style=\"text-align: right;\">\n",
       "      <th></th>\n",
       "      <th>date_x</th>\n",
       "      <th>hour</th>\n",
       "      <th>values</th>\n",
       "      <th>detection</th>\n",
       "      <th>int_date</th>\n",
       "      <th>date_y</th>\n",
       "    </tr>\n",
       "  </thead>\n",
       "  <tbody>\n",
       "  </tbody>\n",
       "</table>\n",
       "</div>"
      ],
      "text/plain": [
       "Empty DataFrame\n",
       "Columns: [date_x, hour, values, detection, int_date, date_y]\n",
       "Index: []"
      ]
     },
     "execution_count": 25,
     "metadata": {},
     "output_type": "execute_result"
    }
   ],
   "source": [
    "test_holi = test_df.merge(holidays, how='inner', on=['int_date'])\n",
    "test_holi"
   ]
  },
  {
   "cell_type": "code",
   "execution_count": 26,
   "metadata": {},
   "outputs": [
    {
     "data": {
      "text/html": [
       "<div>\n",
       "<style scoped>\n",
       "    .dataframe tbody tr th:only-of-type {\n",
       "        vertical-align: middle;\n",
       "    }\n",
       "\n",
       "    .dataframe tbody tr th {\n",
       "        vertical-align: top;\n",
       "    }\n",
       "\n",
       "    .dataframe thead th {\n",
       "        text-align: right;\n",
       "    }\n",
       "</style>\n",
       "<table border=\"1\" class=\"dataframe\">\n",
       "  <thead>\n",
       "    <tr style=\"text-align: right;\">\n",
       "      <th></th>\n",
       "      <th>date</th>\n",
       "      <th>hour</th>\n",
       "      <th>values</th>\n",
       "      <th>detection</th>\n",
       "      <th>int_date</th>\n",
       "    </tr>\n",
       "  </thead>\n",
       "  <tbody>\n",
       "    <tr>\n",
       "      <th>0</th>\n",
       "      <td>31/01/2017</td>\n",
       "      <td>00:07:30</td>\n",
       "      <td>81.976077</td>\n",
       "      <td>0</td>\n",
       "      <td>20170131</td>\n",
       "    </tr>\n",
       "    <tr>\n",
       "      <th>1</th>\n",
       "      <td>31/01/2017</td>\n",
       "      <td>00:22:30</td>\n",
       "      <td>78.459897</td>\n",
       "      <td>0</td>\n",
       "      <td>20170131</td>\n",
       "    </tr>\n",
       "    <tr>\n",
       "      <th>2</th>\n",
       "      <td>31/01/2017</td>\n",
       "      <td>00:37:30</td>\n",
       "      <td>70.882941</td>\n",
       "      <td>0</td>\n",
       "      <td>20170131</td>\n",
       "    </tr>\n",
       "    <tr>\n",
       "      <th>3</th>\n",
       "      <td>31/01/2017</td>\n",
       "      <td>00:52:30</td>\n",
       "      <td>59.618615</td>\n",
       "      <td>0</td>\n",
       "      <td>20170131</td>\n",
       "    </tr>\n",
       "    <tr>\n",
       "      <th>4</th>\n",
       "      <td>31/01/2017</td>\n",
       "      <td>01:07:30</td>\n",
       "      <td>68.780676</td>\n",
       "      <td>0</td>\n",
       "      <td>20170131</td>\n",
       "    </tr>\n",
       "    <tr>\n",
       "      <th>...</th>\n",
       "      <td>...</td>\n",
       "      <td>...</td>\n",
       "      <td>...</td>\n",
       "      <td>...</td>\n",
       "      <td>...</td>\n",
       "    </tr>\n",
       "    <tr>\n",
       "      <th>475</th>\n",
       "      <td>06/02/2017</td>\n",
       "      <td>22:52:30</td>\n",
       "      <td>44.925417</td>\n",
       "      <td>0</td>\n",
       "      <td>20170206</td>\n",
       "    </tr>\n",
       "    <tr>\n",
       "      <th>476</th>\n",
       "      <td>06/02/2017</td>\n",
       "      <td>23:07:30</td>\n",
       "      <td>47.979819</td>\n",
       "      <td>0</td>\n",
       "      <td>20170206</td>\n",
       "    </tr>\n",
       "    <tr>\n",
       "      <th>477</th>\n",
       "      <td>06/02/2017</td>\n",
       "      <td>23:22:30</td>\n",
       "      <td>50.164222</td>\n",
       "      <td>0</td>\n",
       "      <td>20170206</td>\n",
       "    </tr>\n",
       "    <tr>\n",
       "      <th>478</th>\n",
       "      <td>06/02/2017</td>\n",
       "      <td>23:37:30</td>\n",
       "      <td>47.979444</td>\n",
       "      <td>0</td>\n",
       "      <td>20170206</td>\n",
       "    </tr>\n",
       "    <tr>\n",
       "      <th>479</th>\n",
       "      <td>06/02/2017</td>\n",
       "      <td>23:52:30</td>\n",
       "      <td>47.898972</td>\n",
       "      <td>0</td>\n",
       "      <td>20170206</td>\n",
       "    </tr>\n",
       "  </tbody>\n",
       "</table>\n",
       "<p>480 rows × 5 columns</p>\n",
       "</div>"
      ],
      "text/plain": [
       "           date      hour     values  detection  int_date\n",
       "0    31/01/2017  00:07:30  81.976077          0  20170131\n",
       "1    31/01/2017  00:22:30  78.459897          0  20170131\n",
       "2    31/01/2017  00:37:30  70.882941          0  20170131\n",
       "3    31/01/2017  00:52:30  59.618615          0  20170131\n",
       "4    31/01/2017  01:07:30  68.780676          0  20170131\n",
       "..          ...       ...        ...        ...       ...\n",
       "475  06/02/2017  22:52:30  44.925417          0  20170206\n",
       "476  06/02/2017  23:07:30  47.979819          0  20170206\n",
       "477  06/02/2017  23:22:30  50.164222          0  20170206\n",
       "478  06/02/2017  23:37:30  47.979444          0  20170206\n",
       "479  06/02/2017  23:52:30  47.898972          0  20170206\n",
       "\n",
       "[480 rows x 5 columns]"
      ]
     },
     "execution_count": 26,
     "metadata": {},
     "output_type": "execute_result"
    }
   ],
   "source": [
    "train_data"
   ]
  },
  {
   "cell_type": "code",
   "execution_count": 27,
   "metadata": {},
   "outputs": [],
   "source": [
    "train_data['timestamp'] = pd.to_datetime(train_data['hour'])\n",
    "train_data['timestamp'] = train_data['timestamp'].dt.hour * 3600 + \\\n",
    "              train_data['timestamp'].dt.minute * 60 + \\\n",
    "              train_data['timestamp'].dt.second\n",
    "\n",
    "test_data['timestamp'] = pd.to_datetime(test_data['hour'])\n",
    "test_data['timestamp'] = test_data['timestamp'].dt.hour * 3600 + \\\n",
    "              test_data['timestamp'].dt.minute * 60 + \\\n",
    "              test_data['timestamp'].dt.second"
   ]
  },
  {
   "cell_type": "code",
   "execution_count": 28,
   "metadata": {},
   "outputs": [],
   "source": [
    "train_data['dayofweek'] = pd.to_datetime(train_data['date'],dayfirst=True)\n",
    "train_data['dayofweek'] = train_data['dayofweek'].dt.dayofweek\n",
    "\n",
    "test_data['dayofweek'] = pd.to_datetime(test_data['date'],dayfirst=True)\n",
    "test_data['dayofweek'] = test_data['dayofweek'].dt.dayofweek"
   ]
  },
  {
   "cell_type": "code",
   "execution_count": 29,
   "metadata": {},
   "outputs": [],
   "source": [
    "train_data['month'] = pd.to_datetime(train_data['date'],dayfirst=True)\n",
    "train_data['month'] = train_data['month'].dt.month"
   ]
  },
  {
   "cell_type": "code",
   "execution_count": 30,
   "metadata": {
    "scrolled": true
   },
   "outputs": [
    {
     "data": {
      "text/html": [
       "<div>\n",
       "<style scoped>\n",
       "    .dataframe tbody tr th:only-of-type {\n",
       "        vertical-align: middle;\n",
       "    }\n",
       "\n",
       "    .dataframe tbody tr th {\n",
       "        vertical-align: top;\n",
       "    }\n",
       "\n",
       "    .dataframe thead th {\n",
       "        text-align: right;\n",
       "    }\n",
       "</style>\n",
       "<table border=\"1\" class=\"dataframe\">\n",
       "  <thead>\n",
       "    <tr style=\"text-align: right;\">\n",
       "      <th></th>\n",
       "      <th>dayofweek</th>\n",
       "      <th>timestamp</th>\n",
       "      <th>values</th>\n",
       "      <th>detection</th>\n",
       "    </tr>\n",
       "  </thead>\n",
       "  <tbody>\n",
       "    <tr>\n",
       "      <th>0</th>\n",
       "      <td>1</td>\n",
       "      <td>450</td>\n",
       "      <td>81.976077</td>\n",
       "      <td>0</td>\n",
       "    </tr>\n",
       "    <tr>\n",
       "      <th>1</th>\n",
       "      <td>1</td>\n",
       "      <td>1350</td>\n",
       "      <td>78.459897</td>\n",
       "      <td>0</td>\n",
       "    </tr>\n",
       "    <tr>\n",
       "      <th>2</th>\n",
       "      <td>1</td>\n",
       "      <td>2250</td>\n",
       "      <td>70.882941</td>\n",
       "      <td>0</td>\n",
       "    </tr>\n",
       "    <tr>\n",
       "      <th>3</th>\n",
       "      <td>1</td>\n",
       "      <td>3150</td>\n",
       "      <td>59.618615</td>\n",
       "      <td>0</td>\n",
       "    </tr>\n",
       "    <tr>\n",
       "      <th>4</th>\n",
       "      <td>1</td>\n",
       "      <td>4050</td>\n",
       "      <td>68.780676</td>\n",
       "      <td>0</td>\n",
       "    </tr>\n",
       "  </tbody>\n",
       "</table>\n",
       "</div>"
      ],
      "text/plain": [
       "   dayofweek  timestamp     values  detection\n",
       "0          1        450  81.976077          0\n",
       "1          1       1350  78.459897          0\n",
       "2          1       2250  70.882941          0\n",
       "3          1       3150  59.618615          0\n",
       "4          1       4050  68.780676          0"
      ]
     },
     "execution_count": 30,
     "metadata": {},
     "output_type": "execute_result"
    }
   ],
   "source": [
    "df_train = pd.concat([train_data['dayofweek'],train_data['timestamp'],train_data['values'],train_data['detection']], axis=1, join='inner')\n",
    "df_train.head()"
   ]
  },
  {
   "cell_type": "code",
   "execution_count": 31,
   "metadata": {
    "scrolled": false
   },
   "outputs": [
    {
     "data": {
      "text/html": [
       "<div>\n",
       "<style scoped>\n",
       "    .dataframe tbody tr th:only-of-type {\n",
       "        vertical-align: middle;\n",
       "    }\n",
       "\n",
       "    .dataframe tbody tr th {\n",
       "        vertical-align: top;\n",
       "    }\n",
       "\n",
       "    .dataframe thead th {\n",
       "        text-align: right;\n",
       "    }\n",
       "</style>\n",
       "<table border=\"1\" class=\"dataframe\">\n",
       "  <thead>\n",
       "    <tr style=\"text-align: right;\">\n",
       "      <th></th>\n",
       "      <th>dayofweek</th>\n",
       "      <th>timestamp</th>\n",
       "      <th>values</th>\n",
       "      <th>detection</th>\n",
       "    </tr>\n",
       "  </thead>\n",
       "  <tbody>\n",
       "    <tr>\n",
       "      <th>0</th>\n",
       "      <td>1</td>\n",
       "      <td>450</td>\n",
       "      <td>81.976077</td>\n",
       "      <td>0</td>\n",
       "    </tr>\n",
       "    <tr>\n",
       "      <th>1</th>\n",
       "      <td>1</td>\n",
       "      <td>1350</td>\n",
       "      <td>78.459897</td>\n",
       "      <td>0</td>\n",
       "    </tr>\n",
       "    <tr>\n",
       "      <th>2</th>\n",
       "      <td>1</td>\n",
       "      <td>2250</td>\n",
       "      <td>70.882941</td>\n",
       "      <td>0</td>\n",
       "    </tr>\n",
       "    <tr>\n",
       "      <th>3</th>\n",
       "      <td>1</td>\n",
       "      <td>3150</td>\n",
       "      <td>59.618615</td>\n",
       "      <td>0</td>\n",
       "    </tr>\n",
       "    <tr>\n",
       "      <th>4</th>\n",
       "      <td>1</td>\n",
       "      <td>4050</td>\n",
       "      <td>68.780676</td>\n",
       "      <td>0</td>\n",
       "    </tr>\n",
       "  </tbody>\n",
       "</table>\n",
       "</div>"
      ],
      "text/plain": [
       "   dayofweek  timestamp     values  detection\n",
       "0          1        450  81.976077          0\n",
       "1          1       1350  78.459897          0\n",
       "2          1       2250  70.882941          0\n",
       "3          1       3150  59.618615          0\n",
       "4          1       4050  68.780676          0"
      ]
     },
     "execution_count": 31,
     "metadata": {},
     "output_type": "execute_result"
    }
   ],
   "source": [
    "df_test = pd.concat([test_data['dayofweek'],test_data['timestamp'],test_data['values'],test_data['detection']], axis=1, join='inner')\n",
    "df_train.head()"
   ]
  },
  {
   "cell_type": "code",
   "execution_count": 32,
   "metadata": {},
   "outputs": [],
   "source": [
    "weekdays_test = df_test[(df_test['dayofweek']>=0)&(df_test['dayofweek']<=5)]\n",
    "weekends_test = df_test[(df_test['dayofweek']>=6)]"
   ]
  },
  {
   "cell_type": "code",
   "execution_count": 33,
   "metadata": {},
   "outputs": [
    {
     "data": {
      "text/plain": [
       "10"
      ]
     },
     "execution_count": 33,
     "metadata": {},
     "output_type": "execute_result"
    }
   ],
   "source": [
    "len(weekdays_test[weekdays_test['detection']==1])"
   ]
  },
  {
   "cell_type": "code",
   "execution_count": 34,
   "metadata": {},
   "outputs": [
    {
     "data": {
      "text/html": [
       "<div>\n",
       "<style scoped>\n",
       "    .dataframe tbody tr th:only-of-type {\n",
       "        vertical-align: middle;\n",
       "    }\n",
       "\n",
       "    .dataframe tbody tr th {\n",
       "        vertical-align: top;\n",
       "    }\n",
       "\n",
       "    .dataframe thead th {\n",
       "        text-align: right;\n",
       "    }\n",
       "</style>\n",
       "<table border=\"1\" class=\"dataframe\">\n",
       "  <thead>\n",
       "    <tr style=\"text-align: right;\">\n",
       "      <th></th>\n",
       "      <th>dayofweek</th>\n",
       "      <th>timestamp</th>\n",
       "      <th>values</th>\n",
       "      <th>detection</th>\n",
       "    </tr>\n",
       "  </thead>\n",
       "  <tbody>\n",
       "    <tr>\n",
       "      <th>0</th>\n",
       "      <td>1</td>\n",
       "      <td>450</td>\n",
       "      <td>52.405125</td>\n",
       "      <td>0</td>\n",
       "    </tr>\n",
       "    <tr>\n",
       "      <th>1</th>\n",
       "      <td>1</td>\n",
       "      <td>1350</td>\n",
       "      <td>50.374528</td>\n",
       "      <td>0</td>\n",
       "    </tr>\n",
       "    <tr>\n",
       "      <th>2</th>\n",
       "      <td>1</td>\n",
       "      <td>2250</td>\n",
       "      <td>42.898861</td>\n",
       "      <td>0</td>\n",
       "    </tr>\n",
       "    <tr>\n",
       "      <th>3</th>\n",
       "      <td>1</td>\n",
       "      <td>3150</td>\n",
       "      <td>43.393778</td>\n",
       "      <td>0</td>\n",
       "    </tr>\n",
       "    <tr>\n",
       "      <th>4</th>\n",
       "      <td>1</td>\n",
       "      <td>4050</td>\n",
       "      <td>47.761917</td>\n",
       "      <td>0</td>\n",
       "    </tr>\n",
       "    <tr>\n",
       "      <th>...</th>\n",
       "      <td>...</td>\n",
       "      <td>...</td>\n",
       "      <td>...</td>\n",
       "      <td>...</td>\n",
       "    </tr>\n",
       "    <tr>\n",
       "      <th>91</th>\n",
       "      <td>1</td>\n",
       "      <td>82350</td>\n",
       "      <td>39.885125</td>\n",
       "      <td>0</td>\n",
       "    </tr>\n",
       "    <tr>\n",
       "      <th>92</th>\n",
       "      <td>1</td>\n",
       "      <td>83250</td>\n",
       "      <td>52.764181</td>\n",
       "      <td>0</td>\n",
       "    </tr>\n",
       "    <tr>\n",
       "      <th>93</th>\n",
       "      <td>1</td>\n",
       "      <td>84150</td>\n",
       "      <td>66.020722</td>\n",
       "      <td>0</td>\n",
       "    </tr>\n",
       "    <tr>\n",
       "      <th>94</th>\n",
       "      <td>1</td>\n",
       "      <td>85050</td>\n",
       "      <td>68.884931</td>\n",
       "      <td>0</td>\n",
       "    </tr>\n",
       "    <tr>\n",
       "      <th>95</th>\n",
       "      <td>1</td>\n",
       "      <td>85950</td>\n",
       "      <td>59.254514</td>\n",
       "      <td>0</td>\n",
       "    </tr>\n",
       "  </tbody>\n",
       "</table>\n",
       "<p>96 rows × 4 columns</p>\n",
       "</div>"
      ],
      "text/plain": [
       "    dayofweek  timestamp     values  detection\n",
       "0           1        450  52.405125          0\n",
       "1           1       1350  50.374528          0\n",
       "2           1       2250  42.898861          0\n",
       "3           1       3150  43.393778          0\n",
       "4           1       4050  47.761917          0\n",
       "..        ...        ...        ...        ...\n",
       "91          1      82350  39.885125          0\n",
       "92          1      83250  52.764181          0\n",
       "93          1      84150  66.020722          0\n",
       "94          1      85050  68.884931          0\n",
       "95          1      85950  59.254514          0\n",
       "\n",
       "[96 rows x 4 columns]"
      ]
     },
     "execution_count": 34,
     "metadata": {},
     "output_type": "execute_result"
    }
   ],
   "source": [
    "weekdays_test"
   ]
  },
  {
   "cell_type": "code",
   "execution_count": 35,
   "metadata": {},
   "outputs": [],
   "source": [
    "weekdays_test_values = weekdays_test['values'].values\n",
    "weekdays_test_timestamp = weekdays_test['timestamp'].values\n",
    "\n",
    "#weekends_data = weekends['values'].values\n",
    "#weekends_timestamp = weekends['timestamp'].values"
   ]
  },
  {
   "cell_type": "code",
   "execution_count": 36,
   "metadata": {},
   "outputs": [],
   "source": [
    "weekdays = df_train[(df_train['dayofweek']>=0)&(df_train['dayofweek']<=5)]\n",
    "weekends = df_train[(df_train['dayofweek']>=6)]"
   ]
  },
  {
   "cell_type": "code",
   "execution_count": 37,
   "metadata": {},
   "outputs": [
    {
     "data": {
      "text/plain": [
       "0"
      ]
     },
     "execution_count": 37,
     "metadata": {},
     "output_type": "execute_result"
    }
   ],
   "source": [
    "len(weekdays[weekdays['detection']==1])"
   ]
  },
  {
   "cell_type": "code",
   "execution_count": 38,
   "metadata": {
    "scrolled": true
   },
   "outputs": [],
   "source": [
    "days_of_week_data = weekdays['values'].values\n",
    "days_of_week_timestamp = weekdays['timestamp'].values\n",
    "\n",
    "weekends_data = weekends['values'].values\n",
    "weekends_timestamp = weekends['timestamp'].values"
   ]
  },
  {
   "cell_type": "code",
   "execution_count": 39,
   "metadata": {},
   "outputs": [],
   "source": [
    "def plot_rgr_dist(X,y):\n",
    "    fig = plt.figure(figsize=(6, 6))\n",
    "    grid = plt.GridSpec(4, 4, hspace=0.2, wspace=0.2)\n",
    "    main_ax = fig.add_subplot(grid[:-1, 1:])\n",
    "    y_hist = fig.add_subplot(grid[:-1, 0], xticklabels=[], sharey=main_ax)\n",
    "    plt.ylabel('Values')\n",
    "    plt.xlabel('Time')\n",
    "    \n",
    "    main_ax.plot(X, y, 'ok', markersize=3, alpha=0.2)\n",
    "\n",
    "    y_hist.hist(y, 40, histtype='stepfilled',\n",
    "                orientation='horizontal', color='gray')\n",
    "    y_hist.invert_xaxis()"
   ]
  },
  {
   "cell_type": "code",
   "execution_count": 40,
   "metadata": {
    "scrolled": true
   },
   "outputs": [
    {
     "data": {
      "image/png": "[encoded data removed]",
      "text/plain": [
       "<Figure size 432x432 with 2 Axes>"
      ]
     },
     "metadata": {},
     "output_type": "display_data"
    },
    {
     "data": {
      "image/png": "[encoded data removed]",
      "text/plain": [
       "<Figure size 432x432 with 2 Axes>"
      ]
     },
     "metadata": {},
     "output_type": "display_data"
    }
   ],
   "source": [
    "plot_rgr_dist(days_of_week_timestamp,days_of_week_data)\n",
    "plot_rgr_dist(weekdays_test_timestamp,weekdays_test_values)"
   ]
  },
  {
   "cell_type": "code",
   "execution_count": 41,
   "metadata": {
    "scrolled": true
   },
   "outputs": [
    {
     "data": {
      "image/png": "[encoded data removed]",
      "text/plain": [
       "<Figure size 432x432 with 2 Axes>"
      ]
     },
     "metadata": {},
     "output_type": "display_data"
    }
   ],
   "source": [
    "plot_rgr_dist(weekends_timestamp,weekends_data)"
   ]
  },
  {
   "cell_type": "code",
   "execution_count": 42,
   "metadata": {
    "scrolled": false
   },
   "outputs": [
    {
     "data": {
      "text/plain": [
       "86399"
      ]
     },
     "execution_count": 42,
     "metadata": {},
     "output_type": "execute_result"
    }
   ],
   "source": [
    "def convert_hour(timestamp):\n",
    "    timestamp = pd.to_datetime(timestamp)\n",
    "\n",
    "    timestamp = timestamp.hour * 3600 + \\\n",
    "                  timestamp.minute * 60 + \\\n",
    "                  timestamp.second\n",
    "    return timestamp\n",
    "\n",
    "hour = convert_hour('23:59:59')\n",
    "hour"
   ]
  },
  {
   "cell_type": "code",
   "execution_count": 43,
   "metadata": {},
   "outputs": [],
   "source": [
    "X_weekday = []\n",
    "y_weekday = []\n",
    "X_weekend = []\n",
    "y_weekend = []\n",
    "week_detec = []\n",
    "week_detec_ts = []\n",
    "weekend_detec = []\n",
    "weekend_detec_ts = []\n",
    "test_week_detec = []\n",
    "test_week_detec_ts = []\n",
    "X_test = []\n",
    "y_test = []\n",
    "\n",
    "time = min(weekdays['timestamp'].values)\n",
    "hour = 1\n",
    "hour = 3600*hour\n",
    "day = 24*60*60\n",
    "m = 4\n",
    "\n",
    "for i in range(int(day/hour)*m):\n",
    "    X_weekday.append(weekdays[(weekdays['timestamp']>=time)&(weekdays['timestamp']<time+hour)]['timestamp'].values)\n",
    "    y_weekday.append(weekdays[(weekdays['timestamp']>=time)&(weekdays['timestamp']<time+hour)]['values'].values)\n",
    "    y_test.append(weekdays_test[(weekdays_test['timestamp']>=time)&(weekdays_test['timestamp']<time+hour)]['values'].values)\n",
    "    test_week_detec.append(weekdays_test[(weekdays_test['timestamp']>=time)&(weekdays_test['timestamp']<time+hour)]['detection'].values)\n",
    "    X_test.append(weekdays_test[(weekdays_test['timestamp']>=time)&(weekdays_test['timestamp']<time+hour)]['timestamp'].values)\n",
    "    time += hour/m"
   ]
  },
  {
   "cell_type": "code",
   "execution_count": 44,
   "metadata": {},
   "outputs": [
    {
     "data": {
      "text/plain": [
       "40"
      ]
     },
     "execution_count": 44,
     "metadata": {},
     "output_type": "execute_result"
    }
   ],
   "source": [
    "count = 0\n",
    "for i in range(len(test_week_detec)):\n",
    "    for j in range(len(test_week_detec[i])):\n",
    "        if test_week_detec[i][j] == 1:\n",
    "            count +=1\n",
    "            \n",
    "count"
   ]
  },
  {
   "cell_type": "code",
   "execution_count": 45,
   "metadata": {
    "scrolled": false
   },
   "outputs": [
    {
     "data": {
      "text/html": [
       "<div>\n",
       "<style scoped>\n",
       "    .dataframe tbody tr th:only-of-type {\n",
       "        vertical-align: middle;\n",
       "    }\n",
       "\n",
       "    .dataframe tbody tr th {\n",
       "        vertical-align: top;\n",
       "    }\n",
       "\n",
       "    .dataframe thead th {\n",
       "        text-align: right;\n",
       "    }\n",
       "</style>\n",
       "<table border=\"1\" class=\"dataframe\">\n",
       "  <thead>\n",
       "    <tr style=\"text-align: right;\">\n",
       "      <th></th>\n",
       "      <th>dayofweek</th>\n",
       "      <th>timestamp</th>\n",
       "      <th>values</th>\n",
       "      <th>detection</th>\n",
       "    </tr>\n",
       "  </thead>\n",
       "  <tbody>\n",
       "    <tr>\n",
       "      <th>384</th>\n",
       "      <td>0</td>\n",
       "      <td>450</td>\n",
       "      <td>44.526000</td>\n",
       "      <td>0</td>\n",
       "    </tr>\n",
       "    <tr>\n",
       "      <th>385</th>\n",
       "      <td>0</td>\n",
       "      <td>1350</td>\n",
       "      <td>60.898514</td>\n",
       "      <td>0</td>\n",
       "    </tr>\n",
       "    <tr>\n",
       "      <th>386</th>\n",
       "      <td>0</td>\n",
       "      <td>2250</td>\n",
       "      <td>63.219319</td>\n",
       "      <td>0</td>\n",
       "    </tr>\n",
       "    <tr>\n",
       "      <th>387</th>\n",
       "      <td>0</td>\n",
       "      <td>3150</td>\n",
       "      <td>53.738597</td>\n",
       "      <td>0</td>\n",
       "    </tr>\n",
       "    <tr>\n",
       "      <th>388</th>\n",
       "      <td>0</td>\n",
       "      <td>4050</td>\n",
       "      <td>51.840861</td>\n",
       "      <td>0</td>\n",
       "    </tr>\n",
       "    <tr>\n",
       "      <th>...</th>\n",
       "      <td>...</td>\n",
       "      <td>...</td>\n",
       "      <td>...</td>\n",
       "      <td>...</td>\n",
       "    </tr>\n",
       "    <tr>\n",
       "      <th>379</th>\n",
       "      <td>4</td>\n",
       "      <td>82350</td>\n",
       "      <td>39.990917</td>\n",
       "      <td>0</td>\n",
       "    </tr>\n",
       "    <tr>\n",
       "      <th>380</th>\n",
       "      <td>4</td>\n",
       "      <td>83250</td>\n",
       "      <td>33.323361</td>\n",
       "      <td>0</td>\n",
       "    </tr>\n",
       "    <tr>\n",
       "      <th>381</th>\n",
       "      <td>4</td>\n",
       "      <td>84150</td>\n",
       "      <td>35.285903</td>\n",
       "      <td>0</td>\n",
       "    </tr>\n",
       "    <tr>\n",
       "      <th>382</th>\n",
       "      <td>4</td>\n",
       "      <td>85050</td>\n",
       "      <td>34.005347</td>\n",
       "      <td>0</td>\n",
       "    </tr>\n",
       "    <tr>\n",
       "      <th>383</th>\n",
       "      <td>4</td>\n",
       "      <td>85950</td>\n",
       "      <td>32.190847</td>\n",
       "      <td>0</td>\n",
       "    </tr>\n",
       "  </tbody>\n",
       "</table>\n",
       "<p>480 rows × 4 columns</p>\n",
       "</div>"
      ],
      "text/plain": [
       "     dayofweek  timestamp     values  detection\n",
       "384          0        450  44.526000          0\n",
       "385          0       1350  60.898514          0\n",
       "386          0       2250  63.219319          0\n",
       "387          0       3150  53.738597          0\n",
       "388          0       4050  51.840861          0\n",
       "..         ...        ...        ...        ...\n",
       "379          4      82350  39.990917          0\n",
       "380          4      83250  33.323361          0\n",
       "381          4      84150  35.285903          0\n",
       "382          4      85050  34.005347          0\n",
       "383          4      85950  32.190847          0\n",
       "\n",
       "[480 rows x 4 columns]"
      ]
     },
     "execution_count": 45,
     "metadata": {},
     "output_type": "execute_result"
    }
   ],
   "source": [
    "weekdays.sort_values(by=['dayofweek','timestamp'])"
   ]
  },
  {
   "cell_type": "markdown",
   "metadata": {},
   "source": [
    "# Treino do Regressor"
   ]
  },
  {
   "cell_type": "code",
   "execution_count": 46,
   "metadata": {},
   "outputs": [],
   "source": [
    "X = X_weekday.copy()\n",
    "y = y_weekday.copy()"
   ]
  },
  {
   "cell_type": "code",
   "execution_count": 47,
   "metadata": {},
   "outputs": [],
   "source": [
    "gamma = 'scale'\n",
    "epsilon_val = 10\n",
    "epsilon = []\n",
    "\n",
    "for i in range(len(X)):\n",
    "    epsilon.append(epsilon_val * numpy.std(y[i]))"
   ]
  },
  {
   "cell_type": "code",
   "execution_count": 48,
   "metadata": {
    "scrolled": true
   },
   "outputs": [],
   "source": [
    "svr_rbf = []\n",
    "for i in range(len(X)):\n",
    "    svr_rbf.append(svm.SVR(kernel='rbf', epsilon=0.5, gamma='scale'))\n",
    "    #svr_rbf.append(svm.SVR(kernel='rbf', epsilon=epsilon[i], gamma='scale',C=C[i]))"
   ]
  },
  {
   "cell_type": "code",
   "execution_count": 49,
   "metadata": {},
   "outputs": [],
   "source": [
    "def fit_model(X,y,svr):\n",
    "    regressor = svr.fit(X,y)\n",
    "    y_pred = regressor.predict(X)\n",
    "    return regressor, y_pred"
   ]
  },
  {
   "cell_type": "code",
   "execution_count": 50,
   "metadata": {
    "scrolled": true
   },
   "outputs": [],
   "source": [
    "regressor = []\n",
    "    \n",
    "for i in range(len(X)):\n",
    "    regressor.append(fit_model(numpy.array(X[i]).reshape(-1,1),numpy.array(y[i]),svr_rbf[i]))"
   ]
  },
  {
   "cell_type": "code",
   "execution_count": 51,
   "metadata": {},
   "outputs": [],
   "source": [
    "y_pred = []\n",
    "    \n",
    "for i in range(len(X)):\n",
    "    y_pred.append((regressor[i][1]))"
   ]
  },
  {
   "cell_type": "code",
   "execution_count": 52,
   "metadata": {},
   "outputs": [],
   "source": [
    "plus_epsilon = []\n",
    "minus_epsilon = []\n",
    "\n",
    "for i in range(len(X)):\n",
    "    plus_epsilon.append(epsilon_val + y_pred[i])\n",
    "    minus_epsilon.append(y_pred[i] - epsilon_val)"
   ]
  },
  {
   "cell_type": "markdown",
   "metadata": {},
   "source": [
    "## Comparação entre os valores previstos e os valores de teste"
   ]
  },
  {
   "cell_type": "code",
   "execution_count": 53,
   "metadata": {},
   "outputs": [],
   "source": [
    "event = []\n",
    "X_event = []\n",
    "y_anomalies_dataset = []\n",
    "Nsv_dataset = []\n",
    "y_anomalies_test = []\n",
    "        \n",
    "for i in range(len(y)):\n",
    "    event.append([])\n",
    "    X_event.append([])\n",
    "    y_anomalies_dataset.append([])\n",
    "    Nsv_dataset.append([])\n",
    "    for j in range(len(y[i])):\n",
    "            if y[i][j] > plus_epsilon[i][j]:\n",
    "                event[i].append(y[i][j])\n",
    "                X_event[i].append(X[i][j])\n",
    "                y_anomalies_dataset[i].extend([1])\n",
    "                Nsv_dataset[i].extend([1])\n",
    "            else:\n",
    "                y_anomalies_dataset[i].extend([0])"
   ]
  },
  {
   "cell_type": "code",
   "execution_count": 54,
   "metadata": {},
   "outputs": [],
   "source": [
    "event_test = []\n",
    "X_test_event = []\n",
    "y_anomalies_test = []\n",
    "Nsv_test = []\n",
    "normal_test = []\n",
    "X_normal_test = []\n",
    "\n",
    "for i in range(len(y_test)):\n",
    "    event_test.append([])\n",
    "    X_test_event.append([])\n",
    "    y_anomalies_test.append([])\n",
    "    Nsv_test.append([])\n",
    "    normal_test.append([])\n",
    "    X_normal_test.append([])\n",
    "    for j in range(len(y_test[i])):\n",
    "        if y_test[i][j] > plus_epsilon[i][j]:   \n",
    "            event_test[i].append(y_test[i][j])\n",
    "            X_test_event[i].append(X_test[i][j])\n",
    "            y_anomalies_test[i].extend([1])\n",
    "            Nsv_test[i].extend([1])\n",
    "        else:\n",
    "            y_anomalies_test[i].extend([0])\n",
    "            normal_test[i].append(y_test[i][j])\n",
    "            X_normal_test[i].append(X_test[i][j])"
   ]
  },
  {
   "cell_type": "code",
   "execution_count": 55,
   "metadata": {},
   "outputs": [],
   "source": [
    "hour_label = np.arange(0,len(X),1)"
   ]
  },
  {
   "cell_type": "code",
   "execution_count": 56,
   "metadata": {},
   "outputs": [],
   "source": [
    "X_plot = []\n",
    "y_plot = []\n",
    "y_pred_plot = []\n",
    "plus_epsilon_plot = []\n",
    "minus_epsilon_plot = []\n",
    "\n",
    "for i in range(len(X)):\n",
    "    X_plot.append([])\n",
    "    y_plot.append([])\n",
    "    y_pred_plot.append([])\n",
    "    plus_epsilon_plot.append([])\n",
    "    minus_epsilon_plot.append([])\n",
    "    X_plot[i], y_plot[i], y_pred_plot[i], plus_epsilon_plot[i], minus_epsilon_plot[i] = zip(*sorted(zip(X[i], y[i], y_pred[i],plus_epsilon[i], minus_epsilon[i])))"
   ]
  },
  {
   "cell_type": "code",
   "execution_count": 57,
   "metadata": {},
   "outputs": [
    {
     "data": {
      "text/plain": [
       "'for i in range(len(X)):\\n    plt.scatter(X_plot[i],y_plot[i])\\n    #plt.scatter(X_event[i],event[i],label=\"Ocurrence\",color=\\'red\\')\\n    plt.scatter(X_test_event[i],event_test[i],color=\"red\")\\n    plt.plot(X_plot[i],plus_epsilon_plot[i],\\'--\\',color=\\'blue\\',label=\\'epsilon\\')\\n    plt.plot(X_plot[i],minus_epsilon_plot[i],\\'--\\',color=\\'blue\\')\\n    plt.plot(X_plot[i], y_pred_plot[i],color = \\'orange\\', label=\\'prediction\\')\\n    plt.title(hour_label[i]+1)\\n    plt.legend()\\n    plt.show()'"
      ]
     },
     "execution_count": 57,
     "metadata": {},
     "output_type": "execute_result"
    }
   ],
   "source": [
    "\"\"\"for i in range(len(X)):\n",
    "    plt.scatter(X_plot[i],y_plot[i])\n",
    "    #plt.scatter(X_event[i],event[i],label=\"Ocurrence\",color='red')\n",
    "    plt.scatter(X_test_event[i],event_test[i],color=\"red\")\n",
    "    plt.plot(X_plot[i],plus_epsilon_plot[i],'--',color='blue',label='epsilon')\n",
    "    plt.plot(X_plot[i],minus_epsilon_plot[i],'--',color='blue')\n",
    "    plt.plot(X_plot[i], y_pred_plot[i],color = 'orange', label='prediction')\n",
    "    plt.title(hour_label[i]+1)\n",
    "    plt.legend()\n",
    "    plt.show()\"\"\""
   ]
  },
  {
   "cell_type": "markdown",
   "metadata": {},
   "source": [
    "## Janela Móvel"
   ]
  },
  {
   "cell_type": "code",
   "execution_count": 58,
   "metadata": {},
   "outputs": [],
   "source": [
    "def window(a, w, o, copy = False):\n",
    "    sh = (a.size - w + 1, w)\n",
    "    st = a.strides * 2\n",
    "    view = np.lib.stride_tricks.as_strided(a, strides = st, shape = sh)[0::o]\n",
    "    if copy:\n",
    "        return view.copy()\n",
    "    else:\n",
    "        return view\n",
    "    \n",
    "n = 4\n",
    "step = 1"
   ]
  },
  {
   "cell_type": "code",
   "execution_count": 59,
   "metadata": {},
   "outputs": [],
   "source": [
    "y_anomalies_test = y_anomalies_test[:-(m-1)]\n",
    "test_week_detec = test_week_detec[:-(m-1)]"
   ]
  },
  {
   "cell_type": "code",
   "execution_count": 60,
   "metadata": {},
   "outputs": [],
   "source": [
    "occurrences_real = []\n",
    "col_size_real = []\n",
    "\n",
    "for i in range(len(test_week_detec)):\n",
    "    occurrences_real.append([])\n",
    "    col_size_real.append([])\n",
    "    for j in range(len(test_week_detec[i])):\n",
    "        occurrences_real[i] = window(numpy.array(test_week_detec[i]),n,step)\n",
    "        col_size_real[i] = len(occurrences_real[i])"
   ]
  },
  {
   "cell_type": "code",
   "execution_count": 61,
   "metadata": {},
   "outputs": [],
   "source": [
    "occurrences_test = []\n",
    "col_size_test = []\n",
    "\n",
    "for i in range(len(y_anomalies_test)):\n",
    "    occurrences_test.append([])\n",
    "    col_size_test.append([])\n",
    "    for j in range(len(y_anomalies_test[i])):\n",
    "        if i < 94:\n",
    "            occurrences_test[i] = window(numpy.array(y_anomalies_test[i]),n,step)\n",
    "            col_size_test[i] = len(occurrences_test[i])"
   ]
  },
  {
   "cell_type": "markdown",
   "metadata": {},
   "source": [
    "## Distribuição de Bernoulli "
   ]
  },
  {
   "cell_type": "code",
   "execution_count": 62,
   "metadata": {},
   "outputs": [],
   "source": [
    "def bernoulli_dist(n,r,p):\n",
    "    bernoulli = ((math.factorial(n))/((math.factorial(r))*(math.factorial(n-r))))*(p**r)*((1-p)**(n-r))\n",
    "    bernoulli = 1 - bernoulli\n",
    "    return bernoulli"
   ]
  },
  {
   "cell_type": "code",
   "execution_count": 63,
   "metadata": {},
   "outputs": [],
   "source": [
    "r_real = []\n",
    "\n",
    "for i in range(len(col_size_real)):\n",
    "    r_real.append([])\n",
    "    for j in range(col_size_real[i]):\n",
    "        r_real[i].append(0)\n",
    "            \n",
    "count_one = 0\n",
    "for i in range(len(occurrences_real)):\n",
    "    for j in range(len(occurrences_real[i])):\n",
    "        for k in range(len(occurrences_real[i][j])):\n",
    "            if occurrences_real[i][j][k] == 1:\n",
    "                count_one += 1\n",
    "                r_real[i][j] = count_one\n",
    "            if k == (n-1):\n",
    "                count_one = 0"
   ]
  },
  {
   "cell_type": "code",
   "execution_count": 64,
   "metadata": {},
   "outputs": [],
   "source": [
    "window_detect = []\n",
    "\n",
    "for i in range(len(r_real)):\n",
    "    for j in range(len(r_real[i])):\n",
    "        if r_real[i][j] >= 1:\n",
    "            window_detect.append(1)\n",
    "        else:\n",
    "            window_detect.append(0)\n",
    "        "
   ]
  },
  {
   "cell_type": "code",
   "execution_count": 65,
   "metadata": {},
   "outputs": [],
   "source": [
    "r_test = []\n",
    "for i in range(len(col_size_test)):\n",
    "    r_test.append([])\n",
    "    for j in range(col_size_test[i]):\n",
    "        r_test[i].append(0)\n",
    "            \n",
    "count_one = 0\n",
    "for i in range(len(occurrences_test)):\n",
    "    for j in range(len(occurrences_test[i])):\n",
    "        for k in range(len(occurrences_test[i][j])):\n",
    "            if occurrences_test[i][j][k] == 1:\n",
    "                count_one += 1\n",
    "                r_test[i][j] = count_one\n",
    "            if k == (n-1):\n",
    "                count_one = 0"
   ]
  },
  {
   "cell_type": "code",
   "execution_count": 66,
   "metadata": {},
   "outputs": [],
   "source": [
    "index_occur_real = []\n",
    "\n",
    "for i in range(len(r_real)):\n",
    "    index_occur_real.append([])\n",
    "    for j in range(len(r_real[i])):\n",
    "        if r_real[i][j] >= 1:\n",
    "            index_occur_real[i].append(j)"
   ]
  },
  {
   "cell_type": "code",
   "execution_count": 67,
   "metadata": {
    "scrolled": true
   },
   "outputs": [],
   "source": [
    "p_dataset = []\n",
    "\n",
    "for i in range(len(y)):\n",
    "    p_dataset.append(len(Nsv_dataset[i])/len(X[i]))\n"
   ]
  },
  {
   "cell_type": "code",
   "execution_count": 68,
   "metadata": {},
   "outputs": [],
   "source": [
    "detect_test = []\n",
    "plot_proba = []\n",
    "\n",
    "for i in range(len(occurrences_test)):\n",
    "    detect_test.append([])\n",
    "    for j in range(len(occurrences_test[i])):\n",
    "        detect_test[i].append(0)\n",
    "    \n",
    "for i in range(len(col_size_test)):\n",
    "    for j in range(col_size_test[i]):\n",
    "        detect_test[i][j] = bernoulli_dist(n,r_test[i][j],p_dataset[i])\n",
    "        plot_proba.append(bernoulli_dist(n,r_test[i][j],p_dataset[i]))"
   ]
  },
  {
   "cell_type": "markdown",
   "metadata": {},
   "source": [
    "# Resultados"
   ]
  },
  {
   "cell_type": "code",
   "execution_count": 69,
   "metadata": {
    "scrolled": false
   },
   "outputs": [
    {
     "data": {
      "text/plain": [
       "Text(0, 0.5, 'Probability')"
      ]
     },
     "execution_count": 69,
     "metadata": {},
     "output_type": "execute_result"
    },
    {
     "data": {
      "image/png": "[encoded data removed]",
      "text/plain": [
       "<Figure size 432x288 with 1 Axes>"
      ]
     },
     "metadata": {},
     "output_type": "display_data"
    }
   ],
   "source": [
    "plt.plot(plot_proba)\n",
    "#plt.xticks(np.arange(0, 24, 1))\n",
    "plt.xlabel('Hour')\n",
    "plt.ylabel('Probability')"
   ]
  },
  {
   "cell_type": "code",
   "execution_count": 70,
   "metadata": {
    "scrolled": false
   },
   "outputs": [
    {
     "data": {
      "text/plain": [
       "Text(0, 0.5, 'Probability')"
      ]
     },
     "execution_count": 70,
     "metadata": {},
     "output_type": "execute_result"
    },
    {
     "data": {
      "image/png": "[encoded data removed]",
      "text/plain": [
       "<Figure size 432x288 with 1 Axes>"
      ]
     },
     "metadata": {},
     "output_type": "display_data"
    }
   ],
   "source": [
    "plt.plot(window_detect)\n",
    "#plt.xticks(np.arange(0, 24, 1))\n",
    "plt.xlabel('Hour')\n",
    "plt.ylabel('Probability')"
   ]
  },
  {
   "cell_type": "code",
   "execution_count": 71,
   "metadata": {},
   "outputs": [],
   "source": [
    "treshold = 0.95"
   ]
  },
  {
   "cell_type": "code",
   "execution_count": 72,
   "metadata": {},
   "outputs": [],
   "source": [
    "detect_array = []\n",
    "for i in plot_proba:\n",
    "    if i >= treshold:\n",
    "        detect_array.append(1)\n",
    "    else:\n",
    "        detect_array.append(0)"
   ]
  },
  {
   "cell_type": "code",
   "execution_count": 73,
   "metadata": {},
   "outputs": [
    {
     "data": {
      "image/png": "[encoded data removed]",
      "text/plain": [
       "<Figure size 432x288 with 1 Axes>"
      ]
     },
     "metadata": {},
     "output_type": "display_data"
    }
   ],
   "source": [
    "plt.plot(window_detect,label='Registed Anomaly',color='orange')\n",
    "plt.plot(plot_proba,label='Anomaly Probability',color='blue')\n",
    "plt.xticks(np.arange(0,96,4),np.arange(0,24,1))\n",
    "plt.yticks(np.arange(0, 1.1, 0.1))\n",
    "plt.axhline(y=treshold, color='r', linestyle='--',label=\"Anomaly Treshold\")\n",
    "plt.xlabel('Hour')\n",
    "plt.ylabel('Probability')\n",
    "plt.legend()\n",
    "plt.show()"
   ]
  },
  {
   "cell_type": "code",
   "execution_count": 74,
   "metadata": {},
   "outputs": [
    {
     "data": {
      "image/png": "[encoded data removed]",
      "text/plain": [
       "<Figure size 432x288 with 1 Axes>"
      ]
     },
     "metadata": {},
     "output_type": "display_data"
    }
   ],
   "source": [
    "plt.plot(window_detect,label='Registed Anomaly',color='orange')\n",
    "plt.plot(detect_array,label='Detected Anomaly',color='green')\n",
    "plt.xticks(np.arange(0,96,4),np.arange(0,24,1))\n",
    "plt.yticks(np.arange(0, 1.1, 0.1))\n",
    "plt.xlabel('Hour')\n",
    "plt.ylabel('Probability')\n",
    "plt.legend()\n",
    "plt.show()"
   ]
  },
  {
   "cell_type": "code",
   "execution_count": 75,
   "metadata": {
    "scrolled": false
   },
   "outputs": [
    {
     "data": {
      "image/png": "[encoded data removed]",
      "text/plain": [
       "<Figure size 432x288 with 1 Axes>"
      ]
     },
     "metadata": {},
     "output_type": "display_data"
    }
   ],
   "source": [
    "plt.plot(window_detect,label='Registed Anomaly',color='orange')\n",
    "plt.plot(detect_array,label='Detected Anomaly',color='green')\n",
    "plt.plot(plot_proba,label='Anomaly Probability',linestyle='--',color='blue')\n",
    "plt.xticks(np.arange(0,96,4),np.arange(0,24,1))\n",
    "plt.yticks(np.arange(0, 1.1, 0.1))\n",
    "plt.axhline(y=treshold, color='r', linestyle='--',label=\"Anomaly Treshold\")\n",
    "plt.xlabel('Hour')\n",
    "plt.ylabel('Probability')\n",
    "plt.legend()\n",
    "plt.show()"
   ]
  },
  {
   "cell_type": "code",
   "execution_count": 76,
   "metadata": {},
   "outputs": [],
   "source": [
    "index_occur_test = []\n",
    "for i in range(len(plot_proba)):\n",
    "    if plot_proba[i] >= treshold:\n",
    "        index_occur_test.append(i)"
   ]
  },
  {
   "cell_type": "code",
   "execution_count": 77,
   "metadata": {},
   "outputs": [],
   "source": [
    "index_occur_real = []\n",
    "for i in range(len(window_detect)):\n",
    "    if window_detect[i] == 1:\n",
    "        index_occur_real.append(i)"
   ]
  },
  {
   "cell_type": "code",
   "execution_count": 78,
   "metadata": {},
   "outputs": [],
   "source": [
    "counter_t_test = 0\n",
    "counter_f_test = 0\n",
    "not_detected_test = 0\n",
    "\n",
    "for i in index_occur_real:\n",
    "    if i in index_occur_test: \n",
    "        counter_t_test += 1\n",
    "        \n",
    "for i in index_occur_test:\n",
    "    if i not in index_occur_real:\n",
    "        counter_f_test += 1\n",
    "\n",
    "for i in index_occur_real:\n",
    "    if i not in index_occur_test: \n",
    "        not_detected_test += 1"
   ]
  },
  {
   "cell_type": "code",
   "execution_count": 79,
   "metadata": {},
   "outputs": [],
   "source": [
    "total_occur = len(index_occur_real)"
   ]
  },
  {
   "cell_type": "code",
   "execution_count": 80,
   "metadata": {},
   "outputs": [
    {
     "data": {
      "text/plain": [
       "10"
      ]
     },
     "execution_count": 80,
     "metadata": {},
     "output_type": "execute_result"
    }
   ],
   "source": [
    "counter_t_test"
   ]
  },
  {
   "cell_type": "code",
   "execution_count": 81,
   "metadata": {},
   "outputs": [
    {
     "data": {
      "text/plain": [
       "2"
      ]
     },
     "execution_count": 81,
     "metadata": {},
     "output_type": "execute_result"
    }
   ],
   "source": [
    "counter_f_test"
   ]
  },
  {
   "cell_type": "code",
   "execution_count": 82,
   "metadata": {
    "scrolled": true
   },
   "outputs": [
    {
     "data": {
      "text/plain": [
       "3"
      ]
     },
     "execution_count": 82,
     "metadata": {},
     "output_type": "execute_result"
    }
   ],
   "source": [
    "not_detected_test"
   ]
  },
  {
   "cell_type": "markdown",
   "metadata": {},
   "source": [
    "## Rácio de Acerto"
   ]
  },
  {
   "cell_type": "code",
   "execution_count": 83,
   "metadata": {
    "scrolled": true
   },
   "outputs": [
    {
     "name": "stdout",
     "output_type": "stream",
     "text": [
      "0.7692307692307693\n"
     ]
    }
   ],
   "source": [
    "try:\n",
    "    print(counter_t_test/total_occur)\n",
    "except:\n",
    "    pass"
   ]
  },
  {
   "cell_type": "markdown",
   "metadata": {},
   "source": [
    "## Rácio de Falha "
   ]
  },
  {
   "cell_type": "code",
   "execution_count": 84,
   "metadata": {},
   "outputs": [
    {
     "name": "stdout",
     "output_type": "stream",
     "text": [
      "0.15384615384615385\n"
     ]
    }
   ],
   "source": [
    "try:\n",
    "    print(counter_f_test/total_occur)\n",
    "except:\n",
    "    pass"
   ]
  },
  {
   "cell_type": "markdown",
   "metadata": {},
   "source": [
    "## Rácio de Não Deteções"
   ]
  },
  {
   "cell_type": "code",
   "execution_count": 85,
   "metadata": {},
   "outputs": [
    {
     "name": "stdout",
     "output_type": "stream",
     "text": [
      "0.23076923076923078\n"
     ]
    }
   ],
   "source": [
    "try:\n",
    "    print(not_detected_test/total_occur)\n",
    "except:\n",
    "    pass"
   ]
  },
  {
   "cell_type": "code",
   "execution_count": 86,
   "metadata": {},
   "outputs": [],
   "source": [
    "def perf_measure(y_actual, y_hat):\n",
    "    TP = 0\n",
    "    FP = 0\n",
    "    TN = 0\n",
    "    FN = 0\n",
    "\n",
    "    for i in range(len(y_hat)):\n",
    "        if y_actual[i] == 1 and y_hat[i] >= treshold:\n",
    "           TP += 1\n",
    "        if y_hat[i] >= treshold and y_actual[i] != 1:\n",
    "           FP += 1\n",
    "        if y_actual[i] == 0 and y_hat[i] < treshold:\n",
    "           TN += 1\n",
    "        if y_hat[i] < treshold and y_actual[i] != 0:\n",
    "           FN += 1\n",
    "\n",
    "    return(TP, FP, TN, FN)"
   ]
  },
  {
   "cell_type": "code",
   "execution_count": 87,
   "metadata": {
    "scrolled": true
   },
   "outputs": [
    {
     "name": "stdout",
     "output_type": "stream",
     "text": [
      "True Positives : 10\n",
      "False Positives : 2\n",
      "True Negatives : 78\n",
      "False Negatives : 3\n"
     ]
    }
   ],
   "source": [
    "results = []\n",
    "results_label = ['True Positives','False Positives','True Negatives','False Negatives']\n",
    "\n",
    "for i in range(4):\n",
    "    results.append(perf_measure(window_detect,plot_proba)[i])\n",
    "    print(results_label[i],':',results[i])\n",
    "\n",
    "TP = results[0]\n",
    "FP = results[1]\n",
    "TN = results[2]\n",
    "FN = results[3]"
   ]
  },
  {
   "cell_type": "code",
   "execution_count": 88,
   "metadata": {},
   "outputs": [
    {
     "name": "stdout",
     "output_type": "stream",
     "text": [
      "Accuracy: 0.95\n",
      "Recall: 0.77\n",
      "Precision: 0.83\n",
      "F score: 0.80\n"
     ]
    }
   ],
   "source": [
    "try:\n",
    "    accuracy = (TP+TN)/(TP+TN+FN+FP)\n",
    "    print('Accuracy:',\"%.2f\" %accuracy)\n",
    "    recall = TP/(TP+FN)\n",
    "    print('Recall:',\"%.2f\" %recall)\n",
    "    precision=TP/(TP+FP)\n",
    "    print('Precision:',\"%.2f\" %precision)\n",
    "    if recall+precision == 0:\n",
    "        print('There are not any True Positives')\n",
    "    else:\n",
    "        F_score = (2*precision*recall)/(precision+recall)\n",
    "        print('F score:',\"%.2f\" %F_score)\n",
    "except:\n",
    "    pass"
   ]
  },
  {
   "cell_type": "code",
   "execution_count": 89,
   "metadata": {},
   "outputs": [],
   "source": [
    "rms = []\n",
    "rmse = []\n",
    "for i in range(len(y)):\n",
    "    rms.append(mean_squared_error(y[i], y_pred[i], squared=False))\n",
    "    rmse.append(sqrt(rms[i]))"
   ]
  },
  {
   "cell_type": "code",
   "execution_count": null,
   "metadata": {},
   "outputs": [],
   "source": []
  }
 ],
 "metadata": {
  "kernelspec": {
   "display_name": "Python 3",
   "language": "python",
   "name": "python3"
  },
  "language_info": {
   "codemirror_mode": {
    "name": "ipython",
    "version": 3
   },
   "file_extension": ".py",
   "mimetype": "text/x-python",
   "name": "python",
   "nbconvert_exporter": "python",
   "pygments_lexer": "ipython3",
   "version": "3.8.5"
  }
 },
 "nbformat": 4,
 "nbformat_minor": 4
}
